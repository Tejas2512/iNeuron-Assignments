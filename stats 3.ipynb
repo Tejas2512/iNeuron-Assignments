{
 "cells": [
  {
   "cell_type": "markdown",
   "metadata": {},
   "source": [
    "# Problem 1"
   ]
  },
  {
   "cell_type": "markdown",
   "metadata": {},
   "source": [
    "Blood glucose levels for obese patients have a mean of 100 with a standard deviation of 15. A researcher thinks that a diet high in raw cornstarch will have a positive effect on\n",
    "blood glucose levels. A sample of 36 patients who have tried the raw cornstarch diet\n",
    "have a mean glucose level of 108. Test the hypothesis that the raw cornstarch had an\n",
    "effect or not."
   ]
  },
  {
   "cell_type": "code",
   "execution_count": 47,
   "metadata": {},
   "outputs": [],
   "source": [
    "pop_mean = 100 #Mean blood glucose levels for obese patients\n",
    "pop_std = 15 #standard deviation \n",
    "sample_size = 36 #number of patients who have tried the raw cornstarch diet\n",
    "sample_mean = 108 #mean of number of patients who have tried the raw cornstarch diet"
   ]
  },
  {
   "cell_type": "markdown",
   "metadata": {},
   "source": [
    "    Null hypothesis - that the raw cornstarch had an effect.\n",
    "Assume 95% confidence interval. if our z value doesn't fall in critical region then our null hypothesis is True. critical value for 95% confidence interval is 1.96.  "
   ]
  },
  {
   "cell_type": "code",
   "execution_count": 56,
   "metadata": {},
   "outputs": [
    {
     "name": "stdout",
     "output_type": "stream",
     "text": [
      "Since the calculated statistic 3.2 is grater than the critical value, 1.96, we accept the null hypothesis and conclude that the raw cornstarch had an effect on blood glucose level.\n"
     ]
    }
   ],
   "source": [
    "std_error = pop_std / (sample_size)**0.5\n",
    "z_val = (sample_mean - pop_mean) / std_error\n",
    "print('Since the calculated statistic {} is grater than the critical value, 1.96, we accept the null hypothesis and conclude that the raw cornstarch had an effect on blood glucose level.'.format(z_val))"
   ]
  },
  {
   "cell_type": "markdown",
   "metadata": {},
   "source": [
    "# Problem 2"
   ]
  },
  {
   "cell_type": "markdown",
   "metadata": {},
   "source": [
    "In one state, 52% of the voters are Republicans, and 48% are Democrats. In a second\n",
    "state, 47% of the voters are Republicans, and 53% are Democrats. Suppose a simple\n",
    "random sample of 100 voters are surveyed from each state.\n",
    "What is the probability that the survey will show a greater percentage of Republican\n",
    "voters in the second state than in the first state?"
   ]
  },
  {
   "cell_type": "code",
   "execution_count": 59,
   "metadata": {},
   "outputs": [],
   "source": [
    "n = 100 #sample size\n",
    "p1 = 52/100 #the proportion of Republican voters in the first state\n",
    "p2 = 47/100 #the proportion of Republican voters in the second state\n",
    "\n",
    "\n",
    "mean_diff = p1 - p2\n",
    "\n",
    "\n",
    "s1 = p1*(1-p1)/n\n",
    "s2 = p2*(1-p2)/n\n",
    "s = (s1+s2)**(0.5)\n",
    "z_val = (0-mean_diff)/s #standard deviation of the difference\n",
    "print('Using z table we find that the probability of a z-score being {} or less is 0.24.'.format(z_val))"
   ]
  },
  {
   "cell_type": "code",
   "execution_count": 62,
   "metadata": {},
   "outputs": [],
   "source": []
  },
  {
   "cell_type": "code",
   "execution_count": 66,
   "metadata": {},
   "outputs": [
    {
     "name": "stdout",
     "output_type": "stream",
     "text": [
      "Using z table we find that the probability of a z-score being -0.7080278164104213 or less is 0.24.\n"
     ]
    }
   ],
   "source": []
  },
  {
   "cell_type": "markdown",
   "metadata": {},
   "source": [
    "Therefore, the probability that the survey will show a greater percentage of Republican voters in the second state than in the first state is 0.24."
   ]
  },
  {
   "cell_type": "markdown",
   "metadata": {},
   "source": [
    "\n",
    "# Problem 3"
   ]
  },
  {
   "cell_type": "markdown",
   "metadata": {},
   "source": [
    "You take the SAT and score 1100. The mean score for the SAT is 1026 and the standard\n",
    "deviation is 209. How well did you score on the test compared to the average test taker?"
   ]
  },
  {
   "cell_type": "code",
   "execution_count": 42,
   "metadata": {},
   "outputs": [
    {
     "name": "stdout",
     "output_type": "stream",
     "text": [
      "68% of test taker's score is between 817 to 1235.\n"
     ]
    }
   ],
   "source": [
    "x = 1100 #my test score\n",
    "mean_ = 1026 #mean score \n",
    "std_ = 209 #standard deviation\n",
    "\n",
    "upper_limit = mean_ + std_\n",
    "lower_limit = mean_ - std_\n",
    "print(\"68% of test taker's score is between {} to {}.\".format(lower_limit,upper_limit))"
   ]
  },
  {
   "cell_type": "code",
   "execution_count": 43,
   "metadata": {},
   "outputs": [
    {
     "data": {
      "text/plain": [
       "0.35406698564593303"
      ]
     },
     "execution_count": 43,
     "metadata": {},
     "output_type": "execute_result"
    }
   ],
   "source": [
    "z = (x - mean_)/ std_\n",
    "z"
   ]
  },
  {
   "cell_type": "code",
   "execution_count": 45,
   "metadata": {},
   "outputs": [
    {
     "name": "stdout",
     "output_type": "stream",
     "text": [
      "your score is batter than 63.68 % test taker.\n"
     ]
    }
   ],
   "source": [
    "print('your score is batter than 63.68 % test taker.')"
   ]
  }
 ],
 "metadata": {
  "kernelspec": {
   "display_name": "Python 3",
   "language": "python",
   "name": "python3"
  },
  "language_info": {
   "codemirror_mode": {
    "name": "ipython",
    "version": 3
   },
   "file_extension": ".py",
   "mimetype": "text/x-python",
   "name": "python",
   "nbconvert_exporter": "python",
   "pygments_lexer": "ipython3",
   "version": "3.8.3"
  }
 },
 "nbformat": 4,
 "nbformat_minor": 4
}
