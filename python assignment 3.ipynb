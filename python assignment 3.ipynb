{
 "cells": [
  {
   "cell_type": "markdown",
   "metadata": {},
   "source": [
    "# Problem 1.1"
   ]
  },
  {
   "cell_type": "raw",
   "metadata": {},
   "source": [
    "Write a Python Program to implement your own myreduce() function which works exactly like Python's built-in function reduce()"
   ]
  },
  {
   "cell_type": "code",
   "execution_count": 3,
   "metadata": {},
   "outputs": [
    {
     "name": "stdout",
     "output_type": "stream",
     "text": [
      "Enter comma seperated numerical values:1,2,3,4,0,-5,4.2\n",
      "Addition :  9.2\n"
     ]
    }
   ],
   "source": [
    "def myreduce(add,lst):\n",
    "    return a\n",
    "\n",
    "def add(a,b):  #this function is variable if you want multiply all numbers then change this function.\n",
    "    return a+b\n",
    "\n",
    "lst = [x for x in input('Enter comma seperated numerical values:').split(',')]\n",
    "\n",
    "a = float(lst[0])\n",
    "for i in range(1,len(lst)):\n",
    "    b = float(lst[i])\n",
    "    a = add(a,b)\n",
    "print('Addition : ',myreduce(add,lst))"
   ]
  },
  {
   "cell_type": "markdown",
   "metadata": {},
   "source": [
    "# Problem 1.2"
   ]
  },
  {
   "cell_type": "raw",
   "metadata": {},
   "source": [
    "Write a Python program to implement your own myfilter() function which works exactly like Python's built-in function filter()"
   ]
  },
  {
   "cell_type": "code",
   "execution_count": 36,
   "metadata": {},
   "outputs": [
    {
     "name": "stdout",
     "output_type": "stream",
     "text": [
      "Enter comma seperated numerical values:1,2,3,4,5,6,7,8,9,0\n",
      "list of even number: [2, 4, 6, 8]\n"
     ]
    }
   ],
   "source": [
    "def myfilter(even,lst1):\n",
    "    return even(lst1)\n",
    "\n",
    "def even(lst1):\n",
    "    lst2=[]\n",
    "    for i in lst1:\n",
    "        i = int(i) \n",
    "        if i%2 == 0 and i!=0:\n",
    "            lst2.append(i)\n",
    "    return lst2\n",
    "\n",
    "lst1 = [x for x in input('Enter comma seperated numerical values:').split(',')]\n",
    "\n",
    "print('list of even number:',myfilter(even,lst1))"
   ]
  },
  {
   "cell_type": "markdown",
   "metadata": {},
   "source": [
    "# Problem 2"
   ]
  },
  {
   "cell_type": "raw",
   "metadata": {},
   "source": [
    "Implement List comprehensions to produce the following lists.\n",
    "Write List comprehensions to produce the following Lists\n",
    "['x', 'xx', 'xxx', 'xxxx', 'y', 'yy', 'yyy', 'yyyy', 'z', 'zz', 'zzz', 'zzzz']\n",
    "['x', 'y', 'z', 'xx', 'yy', 'zz', 'xxx', 'yyy', 'zzz', 'xxxx', 'yyyy', 'zzzz']\n",
    "[[2], [3], [4], [3], [4], [5], [4], [5], [6]] \n",
    "[[2, 3, 4, 5], [3, 4, 5, 6],[4, 5, 6, 7], [5, 6, 7, 8]]\n",
    "[(1, 1), (2, 1), (3, 1), (1, 2), (2, 2), (3, 2), (1, 3), (2, 3), (3, 3)]"
   ]
  },
  {
   "cell_type": "code",
   "execution_count": 40,
   "metadata": {},
   "outputs": [
    {
     "data": {
      "text/plain": [
       "['x', 'xx', 'xxx', 'xxxx', 'y', 'yy', 'yyy', 'yyyy', 'z', 'zz', 'zzz', 'zzzz']"
      ]
     },
     "execution_count": 40,
     "metadata": {},
     "output_type": "execute_result"
    }
   ],
   "source": [
    "#['x', 'xx', 'xxx', 'xxxx', 'y', 'yy', 'yyy', 'yyyy', 'z', 'zz', 'zzz', 'zzzz']\n",
    "l = ['x','y','z']\n",
    "new_l = []\n",
    "for i in l:\n",
    "    for j in range(1,5):\n",
    "        new_l.append(i*j)\n",
    "new_l"
   ]
  },
  {
   "cell_type": "code",
   "execution_count": 1,
   "metadata": {},
   "outputs": [
    {
     "data": {
      "text/plain": [
       "['x', 'y', 'z', 'xx', 'yy', 'zz', 'xxx', 'yyy', 'zzz', 'xxxx', 'yyyy', 'zzzz']"
      ]
     },
     "execution_count": 1,
     "metadata": {},
     "output_type": "execute_result"
    }
   ],
   "source": [
    "#['x', 'y', 'z', 'xx', 'yy', 'zz', 'xxx', 'yyy', 'zzz', 'xxxx', 'yyyy', 'zzzz']\n",
    "l1 = ['x','y','z']\n",
    "new_l1 = []\n",
    "for j in range(1,5):\n",
    "    for i in l1:\n",
    "        new_l1.append(i*j)\n",
    "new_l1"
   ]
  },
  {
   "cell_type": "code",
   "execution_count": 6,
   "metadata": {},
   "outputs": [
    {
     "data": {
      "text/plain": [
       "[[2], [3], [4], [3], [4], [5], [4], [5], [6]]"
      ]
     },
     "execution_count": 6,
     "metadata": {},
     "output_type": "execute_result"
    }
   ],
   "source": [
    "#[[2], [3], [4], [3], [4], [5], [4], [5], [6]] \n",
    "l3 = [2,3,4,5,6]\n",
    "new_l3 = []\n",
    "\n",
    "for j in range(0,3):\n",
    "    for i in range(0,3):\n",
    "        new_l3.append([l3[i+j]])\n",
    "    \n",
    "new_l3    "
   ]
  },
  {
   "cell_type": "code",
   "execution_count": 27,
   "metadata": {},
   "outputs": [
    {
     "data": {
      "text/plain": [
       "[[2, 3, 4, 5], [3, 4, 5, 6], [4, 5, 6, 7], [5, 6, 7, 8]]"
      ]
     },
     "execution_count": 27,
     "metadata": {},
     "output_type": "execute_result"
    }
   ],
   "source": [
    "#[[2, 3, 4, 5], [3, 4, 5, 6],[4, 5, 6, 7], [5, 6, 7, 8]]\n",
    "l4 = [2,3,4,5,6,7,8]\n",
    "new_l4 = []\n",
    "\n",
    "for j in range(0,4):\n",
    "    l5 = []\n",
    "    for i in range(0,4):\n",
    "        l5.append(l4[i+j])\n",
    "    new_l4.append(l5)\n",
    "    \n",
    "new_l4"
   ]
  },
  {
   "cell_type": "code",
   "execution_count": 25,
   "metadata": {},
   "outputs": [
    {
     "data": {
      "text/plain": [
       "[(1, 1), (2, 1), (3, 1), (1, 2), (2, 2), (3, 2), (1, 3), (2, 3), (3, 3)]"
      ]
     },
     "execution_count": 25,
     "metadata": {},
     "output_type": "execute_result"
    }
   ],
   "source": [
    "#[(1, 1), (2, 1), (3, 1), (1, 2), (2, 2), (3, 2), (1, 3), (2, 3), (3, 3)]\n",
    "l6 = [1,2,3]\n",
    "new_l6 = []\n",
    "\n",
    "for i in range(0,3):\n",
    "    for j in range(0,3):\n",
    "        new_l6.append((l6[j],l6[i]))\n",
    "        \n",
    "new_l6"
   ]
  },
  {
   "cell_type": "code",
   "execution_count": null,
   "metadata": {},
   "outputs": [],
   "source": []
  }
 ],
 "metadata": {
  "kernelspec": {
   "display_name": "Python 3",
   "language": "python",
   "name": "python3"
  },
  "language_info": {
   "codemirror_mode": {
    "name": "ipython",
    "version": 3
   },
   "file_extension": ".py",
   "mimetype": "text/x-python",
   "name": "python",
   "nbconvert_exporter": "python",
   "pygments_lexer": "ipython3",
   "version": "3.8.3"
  }
 },
 "nbformat": 4,
 "nbformat_minor": 4
}
