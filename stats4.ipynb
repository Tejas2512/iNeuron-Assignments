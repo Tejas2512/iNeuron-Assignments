{
 "cells": [
  {
   "cell_type": "markdown",
   "metadata": {},
   "source": [
    "# Problem 1"
   ]
  },
  {
   "cell_type": "raw",
   "metadata": {},
   "source": [
    "Is gender independent of education level? A random sample of 395 people were surveyed and each person was asked to report the highest education level they obtained. The data that resulted from the survey is summarized in the following table:\n",
    "-------------------------------------------------------\n",
    "       HighSchool | Bachelors | Masters | Ph.d. | Total\n",
    "-------------------------------------------------------\n",
    "Female   60       |    54     | 46      | 41    | 201\n",
    "Male     40       |    44     | 53      | 57    | 194\n",
    "-------------------------------------------------------\n",
    "Total    100      |    98     | 99      | 98    |395\n",
    "-------------------------------------------------------\n",
    "Question: Are gender and education level dependent at 5% level of significance? In other words, given the data collected above, is there a relationship between the gender of an individual and the level of education that they have obtained?"
   ]
  },
  {
   "cell_type": "code",
   "execution_count": 10,
   "metadata": {},
   "outputs": [],
   "source": [
    "import numpy as np"
   ]
  },
  {
   "cell_type": "code",
   "execution_count": 11,
   "metadata": {},
   "outputs": [
    {
     "name": "stdout",
     "output_type": "stream",
     "text": [
      "chi score of given data is =  8.005\n"
     ]
    }
   ],
   "source": [
    "g1 = np.array([60,54,46,41])\n",
    "g2 = np.array([40,44,53,57])\n",
    "g = np.append([g1],[g2])\n",
    "sum1 = g1.sum()\n",
    "sum2 = g2.sum()\n",
    "total = sum1+sum2\n",
    "f_per = sum1/total\n",
    "m_per = sum2/total\n",
    "exp_f = [np.round((g1[i]+g2[i])*f_per,2)  for i in range(4)]\n",
    "exp_m = [np.round((g1[i]+g2[i])*m_per,2)  for i in range(4)]\n",
    "exp_g = np.append([exp_f],[exp_m])\n",
    "chi_score = np.array([((exp_g[i]-g[i])**(2))/exp_g[i] for i in range(8)]).sum()\n",
    "chi_score = round(chi_score,3)\n",
    "print('chi score of given data is = ',chi_score)"
   ]
  },
  {
   "cell_type": "markdown",
   "metadata": {},
   "source": [
    "Conclusion:-\n",
    "\n",
    "    The critical value of chi square with 3 degree of freedom ((r-1)*(c-1)) is 7.815. Since 8.005 > 7.815, we reject the null hypothesis and conclude that the education level depends on gender at a 5% level of significance."
   ]
  },
  {
   "cell_type": "markdown",
   "metadata": {},
   "source": [
    "# Problem 2"
   ]
  },
  {
   "cell_type": "markdown",
   "metadata": {},
   "source": [
    "Using the following data, perform a oneway analysis of variance using α=.05. Write up the results in APA format. [Group1: 51, 45, 33, 45, 67] [Group2: 23, 43, 23, 43, 45] [Group3: 56, 76, 74, 87, 56]"
   ]
  },
  {
   "cell_type": "code",
   "execution_count": 12,
   "metadata": {},
   "outputs": [],
   "source": [
    "def ss(g,mean):\n",
    "    if type(g)==np.ndarray:\n",
    "        s = np.array([(i-mean)**(2) for i in g]).sum()\n",
    "        return s  \n",
    "    else:\n",
    "        s = (g-mean)**(2)\n",
    "        return s   \n",
    "\n",
    "def anova(arr):\n",
    "    m = arr.shape[0]\n",
    "    n = arr.shape[1]\n",
    "    grp_means = np.array([i.mean() for i in arr])\n",
    "    g_mean = grp_means.mean()\n",
    "    SST = np.round(np.array([ss(arr[i],g_mean) for i in range(m)]).sum(),2)\n",
    "    SSW = np.round(np.array([ss(arr[i],grp_means[i]) for i in range(m)]).sum(),2)\n",
    "    SSB = np.round(np.array([n*ss(grp_means[i],g_mean) for i in range(m)]).sum(),2)\n",
    "    return SST,SSW,SSB\n",
    "\n",
    "def f_stats(SSB,SSW):\n",
    "    m = arr.shape[0]\n",
    "    n = arr.shape[1]\n",
    "    f = (SSB/(m-1)) / (SSW/(m*(n-1))) \n",
    "    return np.round(f,2)"
   ]
  },
  {
   "cell_type": "code",
   "execution_count": 13,
   "metadata": {},
   "outputs": [],
   "source": [
    "g1 = np.array([51, 45, 33, 45, 67])\n",
    "g2 = np.array([23, 43, 23, 43, 45])\n",
    "g3 = np.array([56, 76, 74, 87, 56])\n",
    "arr = np.append([g1,g2],[g3]).reshape(3,5)\n",
    "SST,SSW,SSB = anova(arr)\n",
    "f = f_stats(SSB,SSW)"
   ]
  },
  {
   "cell_type": "code",
   "execution_count": 14,
   "metadata": {},
   "outputs": [
    {
     "name": "stdout",
     "output_type": "stream",
     "text": [
      "Total sum of squared SST = 4883.73\n",
      "Within sum of squared SSW = 1860.8\n",
      "Between sum of squared SSB = 3022.93 and\n",
      "f statistics = 9.75\n"
     ]
    }
   ],
   "source": [
    "print('Total sum of squared SST = {}\\nWithin sum of squared SSW = {}\\nBetween sum of squared SSB = {} and\\nf statistics = {}'.format(SST,SSW,SSB,f))"
   ]
  },
  {
   "cell_type": "markdown",
   "metadata": {},
   "source": [
    "Conclusion:-\n",
    "\n",
    "    Critical value for α=.05 is 2.80. that means anything less than critical value accept Null hypothesis(all population mean are same). However, f value is greater than critical value we reject the Null hypothesis.  "
   ]
  },
  {
   "cell_type": "markdown",
   "metadata": {},
   "source": [
    "# Problem 3"
   ]
  },
  {
   "cell_type": "markdown",
   "metadata": {},
   "source": [
    "Calculate F Test for given 10, 20, 30, 40, 50 and 5,10,15, 20, 25.\n",
    "For 10, 20, 30, 40, 50:"
   ]
  },
  {
   "cell_type": "code",
   "execution_count": 15,
   "metadata": {},
   "outputs": [
    {
     "name": "stdout",
     "output_type": "stream",
     "text": [
      "F test for given is =  2.0\n"
     ]
    }
   ],
   "source": [
    "g1 = np.array([10,20,30,40,50])\n",
    "g2 = np.array([5,10,15,20,25])\n",
    "g3 = np.array([10,20,30,40,50])\n",
    "arr = np.append([g1,g2],[g3]).reshape(3,5)\n",
    "SST,SSW,SSB = anova(arr)\n",
    "f = f_stats(SSB,SSW)\n",
    "print('F test for given is = ',f)"
   ]
  }
 ],
 "metadata": {
  "kernelspec": {
   "display_name": "Python 3",
   "language": "python",
   "name": "python3"
  },
  "language_info": {
   "codemirror_mode": {
    "name": "ipython",
    "version": 3
   },
   "file_extension": ".py",
   "mimetype": "text/x-python",
   "name": "python",
   "nbconvert_exporter": "python",
   "pygments_lexer": "ipython3",
   "version": "3.8.3"
  }
 },
 "nbformat": 4,
 "nbformat_minor": 4
}
