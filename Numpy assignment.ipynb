{
 "cells": [
  {
   "cell_type": "markdown",
   "metadata": {},
   "source": [
    "# Problem 1"
   ]
  },
  {
   "cell_type": "raw",
   "metadata": {},
   "source": [
    "Write a function so that the columns of the output matrix are powers of the input vector.\n",
    "The order of the powers is determined by the increasing boolean argument. Specifically, when increasing is False, the i-th output column is the input vector raised element-wise to the power of N - i - 1."
   ]
  },
  {
   "cell_type": "code",
   "execution_count": 2,
   "metadata": {},
   "outputs": [],
   "source": [
    "import numpy as np"
   ]
  },
  {
   "cell_type": "code",
   "execution_count": 55,
   "metadata": {},
   "outputs": [
    {
     "name": "stdout",
     "output_type": "stream",
     "text": [
      "Input array is :  [1 2 3 4 5] \n",
      "\n",
      "Number of columns in output matrix :  5 \n",
      "\n",
      "---Ascending power matrix---\n",
      "\n",
      "[[  1   1   1   1   1]\n",
      " [  1   2   4   8  16]\n",
      " [  1   3   9  27  81]\n",
      " [  1   4  16  64 256]\n",
      " [  1   5  25 125 625]] \n",
      "\n",
      "---Dscending power matrix---\n",
      "\n",
      "[[  1   1   1   1   1]\n",
      " [ 16   8   4   2   1]\n",
      " [ 81  27   9   3   1]\n",
      " [256  64  16   4   1]\n",
      " [625 125  25   5   1]]\n"
     ]
    }
   ],
   "source": [
    "def power_matrix(inp_vac,n,ascending=False):\n",
    "    if ascending:\n",
    "        power_mat = np.array([x**(i) for x in inp_vac for i in range(n)]).reshape(len(inp_vac),n)\n",
    "    else:\n",
    "        power_mat = np.array([x**(n-1-i) for x in inp_vac for i in range(n)]).reshape(len(inp_vac),n)\n",
    "    return power_mat\n",
    "\n",
    "inp_vac = np.array([1,2,3,4,5])\n",
    "col  = 5\n",
    "\n",
    "print('Input array is : ',inp_vac,\"\\n\")\n",
    "print('Number of columns in output matrix : ',max_pow,\"\\n\")\n",
    "print(\"---Ascending power matrix---\\n\")\n",
    "print(power_matrix(inp_vac,col,True),\"\\n\")\n",
    "print(\"---Dscending power matrix---\\n\")\n",
    "print(power_matrix(inp_vac,col))"
   ]
  },
  {
   "cell_type": "markdown",
   "metadata": {},
   "source": [
    "# Problem 2"
   ]
  },
  {
   "cell_type": "raw",
   "metadata": {},
   "source": [
    "Write a function to find moving average in an array over a window:\n",
    "Test it over [3, 5, 7, 2, 8, 10, 11, 65, 72, 81, 99, 100, 150] and window of 3."
   ]
  },
  {
   "cell_type": "code",
   "execution_count": 112,
   "metadata": {},
   "outputs": [],
   "source": [
    "mat = np.array([3, 5, 7, 2, 8, 10, 11, 65, 72, 81, 99, 100, 150])\n",
    "window_size = 3"
   ]
  },
  {
   "cell_type": "code",
   "execution_count": 128,
   "metadata": {},
   "outputs": [
    {
     "name": "stdout",
     "output_type": "stream",
     "text": [
      "-----The moving averages with window size (k=3) of a array sequence (n=13) is shown below-----\n",
      "\n",
      "Sub array is [3 5 7] and average is = 5.0 \n",
      "\n",
      "Sub array is [5 7 2] and average is = 4.67 \n",
      "\n",
      "Sub array is [7 2 8] and average is = 5.67 \n",
      "\n",
      "Sub array is [ 2  8 10] and average is = 6.67 \n",
      "\n",
      "Sub array is [ 8 10 11] and average is = 9.67 \n",
      "\n",
      "Sub array is [10 11 65] and average is = 28.67 \n",
      "\n",
      "Sub array is [11 65 72] and average is = 49.33 \n",
      "\n",
      "Sub array is [65 72 81] and average is = 72.67 \n",
      "\n",
      "Sub array is [72 81 99] and average is = 84.0 \n",
      "\n",
      "Sub array is [ 81  99 100] and average is = 93.33 \n",
      "\n",
      "Sub array is [ 99 100 150] and average is = 116.33 \n",
      "\n"
     ]
    }
   ],
   "source": [
    "def moving_avgerage(input_mat,k):\n",
    "\n",
    "    n=0\n",
    "    sub_arrays = []\n",
    "    moving_avg = []\n",
    "\n",
    "    for i in range(len(mat)-k+1):\n",
    "        sub_array = np.array([mat[i] for i in range(n,n+k)])\n",
    "        sub_arrays.append(sub_array)\n",
    "        mean_of_sub_array = np.array([mat[i] for i in range(n,n+k)]).mean()\n",
    "        moving_avg.append(np.round(mean_of_sub_array,2))\n",
    "        n=n+1\n",
    "\n",
    "    return sub_arrays,moving_avg\n",
    "\n",
    "arr,avg = moving_avgerage(mat,window_size) \n",
    "\n",
    "print(\"-----The moving averages with window size (k={}) of a array sequence (n={}) is shown below-----\\n\".format(window_size,len(mat)))\n",
    "for x in range(len(mat)-window_size+1): \n",
    "    print(\"Sub array is {} and average is = {} \\n\".format(arr[x],avg[x]))"
   ]
  }
 ],
 "metadata": {
  "kernelspec": {
   "display_name": "Python 3",
   "language": "python",
   "name": "python3"
  },
  "language_info": {
   "codemirror_mode": {
    "name": "ipython",
    "version": 3
   },
   "file_extension": ".py",
   "mimetype": "text/x-python",
   "name": "python",
   "nbconvert_exporter": "python",
   "pygments_lexer": "ipython3",
   "version": "3.8.3"
  }
 },
 "nbformat": 4,
 "nbformat_minor": 4
}
