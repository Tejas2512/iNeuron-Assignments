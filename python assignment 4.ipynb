{
 "cells": [
  {
   "cell_type": "markdown",
   "metadata": {},
   "source": [
    "# Problem 1.1"
   ]
  },
  {
   "cell_type": "markdown",
   "metadata": {},
   "source": [
    "Write a Python Program(with class concepts) to find the area of the triangle using the below\n",
    "formula.\n",
    "area = (s*(s-a)*(s-b)*(s-c)) ** 0.5\n",
    "Function to take the length of the sides of triangle from user should be defined in the parent class and function to calculate the area should be defined in subclass.\n"
   ]
  },
  {
   "cell_type": "code",
   "execution_count": 19,
   "metadata": {},
   "outputs": [
    {
     "name": "stdout",
     "output_type": "stream",
     "text": [
      "Length of side A = 3\n",
      "Length of side B = 4\n",
      "Length of side C = 5\n",
      "Area of given tringle is 6.0\n"
     ]
    }
   ],
   "source": [
    "#parent class\n",
    "class SideLength:\n",
    "    \n",
    "    def __init__(self):\n",
    "        self.a = float(input('Length of side A = '))\n",
    "        self.b = float(input('Length of side B = '))\n",
    "        self.c = float(input('Length of side C = '))\n",
    "\n",
    "#child class\n",
    "class Area(SideLength):\n",
    "    \n",
    "    def __init__(self,*args):\n",
    "        super(Area,self).__init__(*args)\n",
    "        \n",
    "    def Area_of_tringle(self):\n",
    "        s = (self.a + self.b + self.c) / 2\n",
    "        area = (s*(s-self.a)*(s-self.b)*(s-self.c))**(0.5)\n",
    "        return area\n",
    "        \n",
    "\n",
    "side_length = Area()\n",
    "print('Area of given tringle is',side_length.Area_of_tringle())\n"
   ]
  },
  {
   "cell_type": "markdown",
   "metadata": {},
   "source": [
    "# Problem 1.2"
   ]
  },
  {
   "cell_type": "markdown",
   "metadata": {},
   "source": [
    "Write a function filter_long_words() that takes a list of words and an integer n and returns\n",
    "the list of words that are longer than n."
   ]
  },
  {
   "cell_type": "code",
   "execution_count": 6,
   "metadata": {},
   "outputs": [
    {
     "name": "stdout",
     "output_type": "stream",
     "text": [
      "Enter the space sapareted list of words:qweqweqwe eqwe qweqw eqwe qwe qwe qweqwe qweqw\n",
      "Enter the num:3\n",
      "Output: ['qweqweqwe', 'eqwe', 'qweqw', 'eqwe', 'qweqwe', 'qweqw']\n"
     ]
    }
   ],
   "source": [
    "def filter_long_words(list_of_words,n):\n",
    "    return [word for word in list_of_words if len(word)>n]\n",
    "        \n",
    "words = [x for x in input('Enter the space sapareted list of words:').split()]\n",
    "num = int(input('Enter the num:'))\n",
    "print('Output:',filter_long_words(words,num))"
   ]
  },
  {
   "cell_type": "markdown",
   "metadata": {},
   "source": [
    "# Problem 2.1"
   ]
  },
  {
   "cell_type": "markdown",
   "metadata": {},
   "source": [
    "Write a Python program using function concept that maps list of words into a list of integers\n",
    "representing the lengths of the corresponding words."
   ]
  },
  {
   "cell_type": "code",
   "execution_count": 8,
   "metadata": {},
   "outputs": [
    {
     "name": "stdout",
     "output_type": "stream",
     "text": [
      "Enter the space sapareted list of words:qwert  dasd sa sfa fas fas ff\n",
      "Output: [5, 4, 2, 3, 3, 3, 2]\n"
     ]
    }
   ],
   "source": [
    "def list_of_words(lst):\n",
    "    return [len(word) for word in lst]\n",
    "\n",
    "num_list = [x for x in input('Enter the space sapareted list of words:').split()]\n",
    "print('Output:',list_of_words(num_list))"
   ]
  },
  {
   "cell_type": "markdown",
   "metadata": {},
   "source": [
    "# Problem 2.2"
   ]
  },
  {
   "cell_type": "raw",
   "metadata": {},
   "source": [
    "Write a Python function which takes a character (i.e. a string of length 1) and returns True if\n",
    "it is a vowel, False otherwise."
   ]
  },
  {
   "cell_type": "code",
   "execution_count": 11,
   "metadata": {},
   "outputs": [
    {
     "name": "stdout",
     "output_type": "stream",
     "text": [
      "Enter the character:A\n",
      "output True\n"
     ]
    }
   ],
   "source": [
    "def vowel_or_consonant(char):\n",
    "    lst = ['a','e','i','o','u']\n",
    "    if char.lower() in lst:\n",
    "        return True\n",
    "    else:\n",
    "        return False\n",
    "\n",
    "char= input('Enter the character:')\n",
    "print('output',vowel_or_consonant(char))"
   ]
  }
 ],
 "metadata": {
  "kernelspec": {
   "display_name": "Python 3",
   "language": "python",
   "name": "python3"
  },
  "language_info": {
   "codemirror_mode": {
    "name": "ipython",
    "version": 3
   },
   "file_extension": ".py",
   "mimetype": "text/x-python",
   "name": "python",
   "nbconvert_exporter": "python",
   "pygments_lexer": "ipython3",
   "version": "3.8.3"
  }
 },
 "nbformat": 4,
 "nbformat_minor": 4
}
